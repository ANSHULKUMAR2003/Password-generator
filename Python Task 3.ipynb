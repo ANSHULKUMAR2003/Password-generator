{
 "cells": [
  {
   "cell_type": "code",
   "execution_count": 6,
   "id": "5447ed3e-934e-412e-a16b-1adc2fb81020",
   "metadata": {},
   "outputs": [
    {
     "name": "stdin",
     "output_type": "stream",
     "text": [
      "Enter the length of the password:  8\n"
     ]
    },
    {
     "name": "stdout",
     "output_type": "stream",
     "text": [
      "Generated Password: l6%$8kg\"\n"
     ]
    }
   ],
   "source": [
    "import random\n",
    "import string\n",
    "\n",
    "def generate_password(length=12):\n",
    "    characters = string.ascii_letters + string.digits + string.punctuation\n",
    "    password = ''.join(random.choice(characters) for _ in range(length))\n",
    "    return password\n",
    "\n",
    "if __name__ == \"__main__\":\n",
    "    try:\n",
    "        password_length = int(input(\"Enter the length of the password: \"))\n",
    "        if password_length < 1:\n",
    "            print(\"Password length must be at least 1.\")\n",
    "        else:\n",
    "            password = generate_password(password_length)\n",
    "            print(f\"Generated Password: {password}\")\n",
    "    except ValueError:\n",
    "        print(\"Invalid input. Please enter a valid number for password length.\")"
   ]
  },
  {
   "cell_type": "code",
   "execution_count": null,
   "id": "87cc9a2a-bb0c-4efd-a7ad-9a0ea8d77aae",
   "metadata": {},
   "outputs": [],
   "source": []
  }
 ],
 "metadata": {
  "kernelspec": {
   "display_name": "Python 3 (ipykernel)",
   "language": "python",
   "name": "python3"
  },
  "language_info": {
   "codemirror_mode": {
    "name": "ipython",
    "version": 3
   },
   "file_extension": ".py",
   "mimetype": "text/x-python",
   "name": "python",
   "nbconvert_exporter": "python",
   "pygments_lexer": "ipython3",
   "version": "3.10.8"
  }
 },
 "nbformat": 4,
 "nbformat_minor": 5
}
